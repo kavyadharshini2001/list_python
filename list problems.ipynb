{
 "cells": [
  {
   "cell_type": "code",
   "execution_count": 2,
   "id": "0274fb58",
   "metadata": {},
   "outputs": [
    {
     "name": "stdout",
     "output_type": "stream",
     "text": [
      "enter the email:kavya@gmail.com\n",
      "email already exist\n"
     ]
    }
   ],
   "source": [
    "#2.printing email idand checking whether the mail id is available or not from the user input\n",
    "E_ids=[\"kavyapm2901@gmail.com\",\"kavya@gmail.com\",\"kavyadharsh@gmail.com\"]\n",
    "email = input(\"enter the email:\")\n",
    "for i in E_ids:\n",
    "    if i == email:\n",
    "        print(\"email already exist\")\n",
    "        break\n",
    "    else:\n",
    "        E_ids.append(email)"
   ]
  },
  {
   "cell_type": "code",
   "execution_count": 9,
   "id": "5235c655",
   "metadata": {},
   "outputs": [
    {
     "name": "stdout",
     "output_type": "stream",
     "text": [
      "1 is repeated 1 times\n",
      "2 is repeated 2 times\n",
      "2 is repeated 2 times\n",
      "3 is repeated 1 times\n",
      "4 is repeated 1 times\n",
      "5 is repeated 3 times\n",
      "6 is repeated 1 times\n",
      "5 is repeated 3 times\n",
      "5 is repeated 3 times\n"
     ]
    }
   ],
   "source": [
    "#3 identify repeated items\n",
    "list2=[1,2,2,3,4,5,6,5,5]\n",
    "for i in list2:\n",
    "    c = 0\n",
    "    for j in range(0,len(list2)):\n",
    "        if i == list2[j]:\n",
    "            c += 1\n",
    "    print(i,\"is repeated\",c,\"times\")            "
   ]
  },
  {
   "cell_type": "code",
   "execution_count": 16,
   "id": "271a99c9",
   "metadata": {},
   "outputs": [
    {
     "name": "stdout",
     "output_type": "stream",
     "text": [
      "[5, 4, 4, 3, 2, 1]\n"
     ]
    }
   ],
   "source": [
    "4.#Decending order\n",
    "lst=[1,3,4,5,2,4]\n",
    "lst.sort()\n",
    "\n",
    "\n",
    "lst.reverse()\n",
    "print(lst)"
   ]
  },
  {
   "cell_type": "code",
   "execution_count": 18,
   "id": "02345bf9",
   "metadata": {},
   "outputs": [
    {
     "name": "stdout",
     "output_type": "stream",
     "text": [
      "[1, 2, 3, 4, 4, 5]\n"
     ]
    }
   ],
   "source": [
    "5.#ascending order\n",
    "lst=[1,3,4,5,2,4]\n",
    "lst.sort()\n",
    "print(lst)"
   ]
  },
  {
   "cell_type": "code",
   "execution_count": 22,
   "id": "ffb98ed1",
   "metadata": {},
   "outputs": [
    {
     "name": "stdout",
     "output_type": "stream",
     "text": [
      "[1, 4]\n"
     ]
    }
   ],
   "source": [
    "6.#to find duplicates of list\n",
    "list=[1,1,2,3,4,4]\n",
    "list2=[]\n",
    "list3=[]\n",
    "\n",
    "for i in list:\n",
    "    if i not in list2:\n",
    "        list2.append(i)\n",
    "    elif i not in list3:\n",
    "        list3.append(i)\n",
    "        \n",
    "print(list3)        "
   ]
  },
  {
   "cell_type": "code",
   "execution_count": 24,
   "id": "b962f302",
   "metadata": {},
   "outputs": [
    {
     "name": "stdout",
     "output_type": "stream",
     "text": [
      "10560\n"
     ]
    }
   ],
   "source": [
    "7.#multiplication of list\n",
    "lst1=[88,2,3,4,5]\n",
    "m=1\n",
    "for i in lst1:\n",
    "    m*=i\n",
    "print(m)    \n",
    "    "
   ]
  },
  {
   "cell_type": "code",
   "execution_count": 32,
   "id": "e71b212c",
   "metadata": {},
   "outputs": [
    {
     "name": "stdout",
     "output_type": "stream",
     "text": [
      "0\n"
     ]
    }
   ],
   "source": [
    "#find strings having more than 2 strings and 1st and last string same\n",
    "\n",
    "def match(lst):\n",
    "    c = 0\n",
    "    for i in lst:\n",
    "        if len(i)>=3 and i[0]==i[len(i)-1]:\n",
    "            c+=1\n",
    "        return c\n",
    "print(match(['kavya','kd','pop','pap']))    "
   ]
  },
  {
   "cell_type": "code",
   "execution_count": 37,
   "id": "c8633f64",
   "metadata": {},
   "outputs": [
    {
     "name": "stdout",
     "output_type": "stream",
     "text": [
      "[3, 5]\n"
     ]
    }
   ],
   "source": [
    "9.#Intersection of two arrays in Python Input:  \n",
    "arr1 = [1, 3, 4, 5, 7] \n",
    "arr2 = [2, 3, 5, 6] \n",
    "arr3=[]\n",
    "for i in arr1:\n",
    "    if i in arr2:\n",
    "        arr3.append(i)\n",
    "print(arr3)        "
   ]
  },
  {
   "cell_type": "code",
   "execution_count": 38,
   "id": "d709ff3d",
   "metadata": {},
   "outputs": [
    {
     "name": "stdout",
     "output_type": "stream",
     "text": [
      "[2, 4, 6, 8]\n"
     ]
    }
   ],
   "source": [
    "#10.print odd numbers in the list\n",
    "lst=[1,2,3,4,5,6,8,9]\n",
    "lst2=[]\n",
    "for i in lst:\n",
    "    if i%2 == 0:\n",
    "        lst2.append(i)\n",
    "print(lst2)        "
   ]
  },
  {
   "cell_type": "code",
   "execution_count": 40,
   "id": "6bae4d62",
   "metadata": {},
   "outputs": [
    {
     "name": "stdout",
     "output_type": "stream",
     "text": [
      "Removed element: 3\n",
      "Removed element: 4\n",
      "Removed element: 5\n",
      "Removed element: 6\n",
      "Removed element: 7\n",
      "Removed element: 8\n",
      "Removed element: 9\n",
      "Removed element: 10\n",
      "Removed last element: 2\n",
      "Removed last element: 1\n",
      "List is empty.\n"
     ]
    }
   ],
   "source": [
    "my_list = [1, 2, 3, 4, 5, 6, 7, 8, 9, 10]\n",
    "\n",
    "while my_list:\n",
    "    if len(my_list) >= 3:\n",
    "        removed_element = my_list.pop(2)\n",
    "        print(\"Removed element:\", removed_element)\n",
    "    else:\n",
    "        removed_element = my_list.pop()\n",
    "        print(\"Removed last element:\", removed_element)\n",
    "\n",
    "print(\"List is empty.\")\n"
   ]
  },
  {
   "cell_type": "code",
   "execution_count": 42,
   "id": "3848fb1e",
   "metadata": {},
   "outputs": [
    {
     "name": "stdout",
     "output_type": "stream",
     "text": [
      "[10, 15, 20, 30]\n"
     ]
    }
   ],
   "source": [
    "#12.Difference between two lists\n",
    "list1 = [10, 15, 20, 25, 30, 35, 40]\n",
    "list2 = [25, 40, 35] \n",
    "list3=[]\n",
    "for i in list1:\n",
    "    if i not in list2:\n",
    "        list3.append(i)\n",
    "print(list3)        \n"
   ]
  },
  {
   "cell_type": "code",
   "execution_count": null,
   "id": "637464b8",
   "metadata": {},
   "outputs": [],
   "source": []
  }
 ],
 "metadata": {
  "kernelspec": {
   "display_name": "Python 3 (ipykernel)",
   "language": "python",
   "name": "python3"
  },
  "language_info": {
   "codemirror_mode": {
    "name": "ipython",
    "version": 3
   },
   "file_extension": ".py",
   "mimetype": "text/x-python",
   "name": "python",
   "nbconvert_exporter": "python",
   "pygments_lexer": "ipython3",
   "version": "3.11.5"
  }
 },
 "nbformat": 4,
 "nbformat_minor": 5
}
