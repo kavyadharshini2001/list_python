{
 "cells": [
  {
   "cell_type": "markdown",
   "metadata": {},
   "source": [
    "# List Simple Comprehension Questions"
   ]
  },
  {
   "cell_type": "code",
   "execution_count": 1,
   "metadata": {},
   "outputs": [
    {
     "name": "stdout",
     "output_type": "stream",
     "text": [
      "['c', 'o', 'n', 's', 't', 'i', 't', 'u', 'i', 't', 'i', 'o', 'n']\n"
     ]
    }
   ],
   "source": [
    "'''1. Write a Python program to iterate through a string Using List Comprehension.\n",
    "    Data:\n",
    "        s = \"constituition\"\n",
    "    Expected Output:\n",
    "        ['c', 'o', 'n', 's', 't', 'i', 't', 'u', 'i', 't', 'i', 'o', 'n']\n",
    "        \n",
    "        '''\n",
    "s = \"constituition\"\n",
    "string = [x for x in s]\n",
    "print(string)"
   ]
  },
  {
   "cell_type": "code",
   "execution_count": 6,
   "metadata": {},
   "outputs": [
    {
     "name": "stdout",
     "output_type": "stream",
     "text": [
      "[0, 2, 4, 6, 8, 10, 12, 14, 16, 18, 20]\n"
     ]
    }
   ],
   "source": [
    "'''2. Write a Python program to print the even numbers from 0 to 20 using list Comprehension.\n",
    "    Expected Output:\n",
    "        [0, 2, 4, 6, 8, 10, 12, 14, 16, 18, 20]\n",
    "        \n",
    "        '''\n",
    "even = [ x  for x in range(21) if x%2 == 0]\n",
    "print(even)"
   ]
  },
  {
   "cell_type": "code",
   "execution_count": 8,
   "metadata": {},
   "outputs": [
    {
     "name": "stdout",
     "output_type": "stream",
     "text": [
      "[0, 10, 20, 30, 40, 50, 60, 70, 80, 90, 100]\n"
     ]
    }
   ],
   "source": [
    "'''3. Write a Python program to print the numbers from 0 to 100 which are divisible by 2 or 5 using list Comprehension.\n",
    "    Expected Output:\n",
    "    [0, 10, 20, 30, 40, 50, 60, 70, 80, 90, 100]\n",
    "    \n",
    "    '''\n",
    "num = [x for x in range(101) if x%2 == 0 and x%5== 0]\n",
    "print(num)\n",
    "    "
   ]
  },
  {
   "cell_type": "code",
   "execution_count": 9,
   "metadata": {},
   "outputs": [
    {
     "name": "stdout",
     "output_type": "stream",
     "text": [
      "* * * * * * * * * \n",
      "* * * * * * * * * \n",
      "* * * * * * * * * \n",
      "* * * * * * * * * \n",
      "* * * * * * * * * \n",
      "* * * * * * * * * \n",
      "\n",
      "* * * * * * * * * \n",
      "* * * * * * * * * \n",
      "* * * * * * * * * \n",
      "* * * * * * * * * \n",
      "* * * * * * * * * \n",
      "* * * * * * * * * \n",
      "\n",
      "* * * * * * * * * \n",
      "* * * * * * * * * \n",
      "* * * * * * * * * \n",
      "* * * * * * * * * \n",
      "* * * * * * * * * \n",
      "* * * * * * * * * \n",
      "\n"
     ]
    }
   ],
   "source": [
    "'''4. Write a Python program to generate a 3*6*9 3D array whose each element is *. \n",
    "'''\n",
    "\n",
    "\n",
    "three_dimensional_array = [[['*' for _ in range(9)] for _ in range(6)] for _ in range(3)]\n",
    "\n",
    "for i in range(3):\n",
    "    for j in range(6):\n",
    "        for k in range(9):\n",
    "            print(three_dimensional_array[i][j][k], end=' ')\n",
    "        print()\n",
    "    print()\n",
    "\n"
   ]
  },
  {
   "cell_type": "code",
   "execution_count": 12,
   "metadata": {},
   "outputs": [
    {
     "name": "stdout",
     "output_type": "stream",
     "text": [
      "[7, 25, 27]\n"
     ]
    }
   ],
   "source": [
    "'''5. Write a Python program to print the numbers of a specified list after removing even numbers from it.\n",
    "    Data:\n",
    "        m = [7, 8, 120, 25, 44, 20, 27]\n",
    "    Expected Output:\n",
    "        [7, 25, 27]\n",
    "        \n",
    "        \n",
    "        '''\n",
    "m = [7, 8, 120, 25, 44, 20, 27]\n",
    "odd = [x for x in m if x%2 != 0]\n",
    "print(odd)"
   ]
  },
  {
   "cell_type": "code",
   "execution_count": 15,
   "metadata": {},
   "outputs": [
    {
     "name": "stdout",
     "output_type": "stream",
     "text": [
      "['l1', 'm1', 'l2', 'm2', 'l3', 'm3', 'l4', 'm4']\n"
     ]
    }
   ],
   "source": [
    "'''6. Write a Python program to create a list by concatenating a given list with numbers ranges from 1 to n.\n",
    "    Data:\n",
    "        list : ['l', 'm']\n",
    "        n = 4\n",
    "    Expected Output:\n",
    "        ['l1', 'm1', 'l2', 'm2', 'l3', 'm3', 'l4', 'm4']\n",
    "        \n",
    "        \n",
    "        \n",
    "        '''\n",
    "listt = ['l', 'm']\n",
    "li = [x + str(num) for num in range(1,5) for x in listt]\n",
    "print(li)"
   ]
  },
  {
   "cell_type": "code",
   "execution_count": 22,
   "metadata": {},
   "outputs": [
    {
     "name": "stdout",
     "output_type": "stream",
     "text": [
      "[['c', 'marvel'], ['c', 'boss'], ['c', 'siva']]\n",
      "['c', 'marvel', 'c', 'boss', 'c', 'siva']\n"
     ]
    }
   ],
   "source": [
    "'''7. Write a Python program to insert an element before each element of a list.\n",
    "    Data:\n",
    "        x = ['marvel', 'boss', 'siva']\n",
    "    Expected Output:\n",
    "        ['c', 'marvel', 'c', 'boss', 'c', 'siva']        \n",
    "        \n",
    "        '''\n",
    "x = ['marvel', 'boss', 'siva']\n",
    "ins = [['c', i] for i in x]\n",
    "sublist = [item for sublist in ins for item in sublist]\n",
    "print(sublist)\n"
   ]
  },
  {
   "cell_type": "code",
   "execution_count": 28,
   "metadata": {},
   "outputs": [
    {
     "name": "stdout",
     "output_type": "stream",
     "text": [
      "['Red']\n",
      "['Green']\n",
      "['Black']\n"
     ]
    },
    {
     "data": {
      "text/plain": [
       "[None, None, None]"
      ]
     },
     "execution_count": 28,
     "metadata": {},
     "output_type": "execute_result"
    }
   ],
   "source": [
    "'''8. Write a Python program to print each list on a new line from a given nested list.\n",
    "    Data:\n",
    "        x = [['Red'], ['Green'], ['Black']]\n",
    "    Expected Output:\n",
    "        ['Red']\n",
    "        ['Green']\n",
    "        ['Black']       \n",
    "        \n",
    "        \n",
    "        '''\n",
    "x = [['Red'], ['Green'], ['Black']]\n",
    "[print(i) for i in x]"
   ]
  },
  {
   "cell_type": "code",
   "execution_count": 31,
   "metadata": {},
   "outputs": [
    {
     "name": "stdout",
     "output_type": "stream",
     "text": [
      "[['a', 'd', 'g', 'j', 'm'], ['b', 'e', 'h', 'k', 'n'], ['c', 'f', 'i', 'l']]\n"
     ]
    }
   ],
   "source": [
    "'''9. Write a Python program to split a list after every nth element.\n",
    "    Data:\n",
    "        list: ['a', 'b', 'c', 'd', 'e', 'f', 'g', 'h', 'i', 'j', 'k', 'l', 'm', 'n']\n",
    "    Expected Output:\n",
    "        [['a', 'd', 'g', 'j', 'm'], ['b', 'e', 'h', 'k', 'n'], ['c', 'f', 'i', 'l']]\n",
    "        \n",
    "        \n",
    "        \n",
    "        '''\n",
    "\n",
    "original_list = ['a', 'b', 'c', 'd', 'e', 'f', 'g', 'h', 'i', 'j', 'k', 'l', 'm', 'n']\n",
    "n = 3  \n",
    "\n",
    "result_list = [original_list[i::n] for i in range(n)]\n",
    "\n",
    "print(result_list)\n"
   ]
  },
  {
   "cell_type": "code",
   "execution_count": 32,
   "metadata": {},
   "outputs": [
    {
     "name": "stdout",
     "output_type": "stream",
     "text": [
      "False\n",
      "True\n"
     ]
    }
   ],
   "source": [
    "'''10. Write a Python program to check whether all elements in a list are equal to the specified string.\n",
    "    Data:\n",
    "        x = [\"green\", \"orange\", \"black\", \"white\"]\n",
    "        y = [\"green\", \"green\", \"green\", \"green\"]\n",
    "    Expected Output:\n",
    "        False\n",
    "        True'''\n",
    "        \n",
    "        \n",
    "        \n",
    "\n",
    "x = [\"green\", \"orange\", \"black\", \"white\"]\n",
    "y = [\"green\", \"green\", \"green\", \"green\"]\n",
    "result_x = all(element == \"green\" for element in x)\n",
    "result_y = all(element == \"green\" for element in y)\n",
    "print(result_x)\n",
    "print(result_y)\n",
    "        "
   ]
  },
  {
   "cell_type": "code",
   "execution_count": 42,
   "metadata": {},
   "outputs": [
    {
     "name": "stdout",
     "output_type": "stream",
     "text": [
      "(6, 0)\n"
     ]
    }
   ],
   "source": [
    "'''11. Write a Python program to find a tuple from the list of tuple whose second value is the smallest.\n",
    "    Data:\n",
    "        x = [(4, 1), (1, 2), (6, 0)]\n",
    "    Expected Output:\n",
    "        (6, 0)        \n",
    "        '''\n",
    "x = [(4, 1), (1, 2), (6, 0)]\n",
    "res = next(( i for i in x if i[1] <= 0 ),None)\n",
    "print(res)\n"
   ]
  },
  {
   "cell_type": "code",
   "execution_count": 46,
   "metadata": {},
   "outputs": [
    {
     "name": "stdout",
     "output_type": "stream",
     "text": [
      "[{}, {}, {}, {}, {}]\n"
     ]
    }
   ],
   "source": [
    "'''12. Write a Python program to create a list of empty dictionaries.\n",
    "    Data:\n",
    "        n = 5\n",
    "    Expected Output:\n",
    "        [{}, {}, {}, {}, {}]\n",
    "        '''\n",
    "res = [{} for i in range(5)]  \n",
    "print(res)"
   ]
  },
  {
   "cell_type": "code",
   "execution_count": 48,
   "metadata": {},
   "outputs": [
    {
     "name": "stdout",
     "output_type": "stream",
     "text": [
      "['boss1', 'boss2', 'boss3', 'boss4']\n"
     ]
    }
   ],
   "source": [
    "'''13. Write a Python program to insert a given string at the beginning of all items of a list.  \n",
    "    Data:\n",
    "        list : [1, 2, 3, 4]\n",
    "        string : boss\n",
    "    Expected Output:\n",
    "        ['boss1', 'boss2', 'boss3', 'boss4']\n",
    "        \n",
    "        '''\n",
    "        \n",
    "li = [1, 2, 3, 4]\n",
    "string = \"boss\"\n",
    "res = [string + str(num) for num in li]\n",
    "print(res)"
   ]
  },
  {
   "cell_type": "code",
   "execution_count": 51,
   "metadata": {},
   "outputs": [
    {
     "name": "stdout",
     "output_type": "stream",
     "text": [
      "True\n"
     ]
    }
   ],
   "source": [
    "'''14. Write a Python program to check whether all the values in a list are > 200.\n",
    "    Data:\n",
    "        a = [220, 330, 500]\n",
    "    Expected Output:\n",
    "        True \n",
    "        \n",
    "        '''\n",
    "a = [220, 330, 500]\n",
    "res = all(elements>200 for elements in a)\n",
    "print(res)"
   ]
  },
  {
   "cell_type": "code",
   "execution_count": 52,
   "metadata": {},
   "outputs": [
    {
     "name": "stdout",
     "output_type": "stream",
     "text": [
      "True\n",
      "False\n"
     ]
    }
   ],
   "source": [
    "'''15. Write a Python program to check whether all the dictionaries in a list are empty or not.\n",
    "    Data:\n",
    "        x = [{},{},{}]\n",
    "        y = [{1,2},{},{}]   \n",
    "    Expected Output:\n",
    "        True\n",
    "        False\n",
    "        '''\n",
    "\n",
    "x = [{}, {}, {}]\n",
    "y = [{1, 2}, {}, {}]\n",
    "\n",
    "result_x = all(not d for d in x)\n",
    "result_y = all(not d for d in y)\n",
    "\n",
    "print(result_x)\n",
    "print(result_y)\n"
   ]
  },
  {
   "cell_type": "code",
   "execution_count": 53,
   "metadata": {},
   "outputs": [
    {
     "name": "stdout",
     "output_type": "stream",
     "text": [
      "['bala', 'siva', 'sai']\n"
     ]
    }
   ],
   "source": [
    "'''16. Write a Python program to print a specified list after removing the 0th, 4th and 5th elements.\n",
    "    Data:\n",
    "        List : ['baskar', 'bala', 'siva', 'sai', 'suresh', 'kumar']\n",
    "    Expected Output:\n",
    "        ['bala', 'siva', 'sai']\n",
    "    \n",
    "    \n",
    "    '''\n",
    "\n",
    "my_list = ['baskar', 'bala', 'siva', 'sai', 'suresh', 'kumar']\n",
    "\n",
    "result_list = my_list[1:4]\n",
    "print(result_list)\n"
   ]
  },
  {
   "cell_type": "code",
   "execution_count": 54,
   "metadata": {},
   "outputs": [
    {
     "name": "stdout",
     "output_type": "stream",
     "text": [
      "['Even', 'Odd', 'Even', 'Odd', 'Even', 'Odd', 'Even', 'Odd', 'Even', 'Odd']\n"
     ]
    }
   ],
   "source": [
    "'''17. Write a Python program to print the odd numbers as 'Odd' and even numbers as 'even' within the range(10).\n",
    "    Expected Output:\n",
    "        ['Even', 'Odd', 'Even', 'Odd', 'Even', 'Odd', 'Even', 'Odd', 'Even', 'Odd']       \n",
    "        '''\n",
    "        \n",
    "\n",
    "result_list = ['Even' if num % 2 == 0 else 'Odd' for num in range(10)]\n",
    "\n",
    "print(result_list)\n",
    "        "
   ]
  },
  {
   "cell_type": "code",
   "execution_count": 55,
   "metadata": {},
   "outputs": [
    {
     "name": "stdout",
     "output_type": "stream",
     "text": [
      "[[1, 3, 5, 7], [2, 4, 6, 8]]\n"
     ]
    }
   ],
   "source": [
    "'''18. Write a Python program to combine all the first element of a list of lists into a new list and \n",
    "        all the second element of a list of lists into another list. And print the two new lists as a list of lists.\n",
    "    Data:\n",
    "        x = [[1, 2], [3,4], [5,6], [7,8]]  \n",
    "    Expected Output:\n",
    "        [[1, 3, 5, 7], [2, 4, 6, 8]]\n",
    "        '''\n",
    "        \n",
    "\n",
    "x = [[1, 2], [3, 4], [5, 6], [7, 8]]\n",
    "first_elements = [item[0] for item in x]\n",
    "second_elements = [item[1] for item in x]\n",
    "result_list = [first_elements, second_elements]\n",
    "print(result_list)\n",
    "        "
   ]
  },
  {
   "cell_type": "code",
   "execution_count": 15,
   "metadata": {},
   "outputs": [],
   "source": [
    "''' 19. Write a Python program to print following output from given two list.\n",
    "    Data:\n",
    "        a = [-2, -1, 0, 1, 2, 3]\n",
    "        b = [4, 5, 6, 7, 8]\n",
    "    Expected Output:\n",
    "        [4, 6, 8, 8, 12, 16, 12, 18, 24] '''\n",
    "\n",
    "# Question incomplete        \n",
    "        "
   ]
  },
  {
   "cell_type": "code",
   "execution_count": 56,
   "metadata": {},
   "outputs": [
    {
     "name": "stdout",
     "output_type": "stream",
     "text": [
      "['yes', 'no', 'idle', 'idle', 'idle']\n"
     ]
    }
   ],
   "source": [
    "'''20. Write a Python program to print 'yes' when value is 1, 'no' when value is 2 and for any other values print 'idle' for the given data.\n",
    "    Data:\n",
    "        l = [1, 2, 3, 4, 5] \n",
    "    Expected Output:\n",
    "        ['yes', 'no', 'idle', 'idle', 'idle']\n",
    "'''\n",
    "        \n",
    "        \n",
    "l = [1, 2, 3, 4, 5] \n",
    "res = [\"yes\" if value == 1 else \"no\" if value == 2 else \"idle\" for value in l]\n",
    "print(res)"
   ]
  },
  {
   "cell_type": "code",
   "execution_count": null,
   "metadata": {},
   "outputs": [],
   "source": []
  }
 ],
 "metadata": {
  "kernelspec": {
   "display_name": "Python 3 (ipykernel)",
   "language": "python",
   "name": "python3"
  },
  "language_info": {
   "codemirror_mode": {
    "name": "ipython",
    "version": 3
   },
   "file_extension": ".py",
   "mimetype": "text/x-python",
   "name": "python",
   "nbconvert_exporter": "python",
   "pygments_lexer": "ipython3",
   "version": "3.11.5"
  }
 },
 "nbformat": 4,
 "nbformat_minor": 4
}
