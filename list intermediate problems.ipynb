{
 "cells": [
  {
   "cell_type": "code",
   "execution_count": 3,
   "id": "0c8526d3",
   "metadata": {},
   "outputs": [
    {
     "name": "stdout",
     "output_type": "stream",
     "text": [
      "2\n"
     ]
    }
   ],
   "source": [
    "''' 1. Write a Python program to count the number of strings where the string length is 2 or more and\n",
    "            the first and last characters of a string are same from the given data.\n",
    "        Data:\n",
    "            ['abc', 'xyz', 'aba', '1221']\n",
    "        Expected Output:\n",
    "            2 '''\n",
    "       \n",
    "x = ['abc', 'xyz', 'aba', '1221']\n",
    "string = [i for i in x if len(i)>=2 and i[0]==i[-1]]\n",
    "print(len(string))"
   ]
  },
  {
   "cell_type": "code",
   "execution_count": 8,
   "id": "e945cba9",
   "metadata": {},
   "outputs": [
    {
     "name": "stdout",
     "output_type": "stream",
     "text": [
      "['The', 'quick', 'brown', 'fox', 'jumps', 'over', 'the', 'lazy', 'dog']\n",
      "['quick', 'brown', 'jumps', 'over', 'lazy']\n"
     ]
    }
   ],
   "source": [
    "''' 2. Write a Python function to find the list of words which are longer than the specified length from the given data.\n",
    "        Data:\n",
    "            (3, \"The quick brown fox jumps over the lazy dog\")\n",
    "        Expected Output:\n",
    "            ['quick', 'brown', 'jumps', 'over', 'lazy'] '''\n",
    "x = \"The quick brown fox jumps over the lazy dog\"\n",
    "y = x.split(\" \")\n",
    "print(y)\n",
    "z =[]\n",
    "for i in y:\n",
    "    if len(i)>3:\n",
    "        z.append(i)\n",
    "print(z)        "
   ]
  },
  {
   "cell_type": "code",
   "execution_count": 18,
   "id": "2d1dd121",
   "metadata": {},
   "outputs": [
    {
     "name": "stdout",
     "output_type": "stream",
     "text": [
      "True\n",
      "False\n"
     ]
    }
   ],
   "source": [
    "''' 3. Write a Python function that takes two parameters as lists and returns True if they have at least one common element.\n",
    "        Data:\n",
    "            (a, b) = ([1,2,2,4,5], [5,6,6,8,9])\n",
    "            (a, b) = ([1,2,3,5,5], [6,7,9,9])\n",
    "        Expected Output:\n",
    "            True \n",
    "            None '''\n",
    "def lst(a,b):\n",
    "    for i in a:\n",
    "        if i in b:\n",
    "            return True\n",
    "    return False   \n",
    "result=lst([1,2,2,4,5], [5,6,6,8,9])\n",
    "result1 = lst([1,2,3,5,5], [6,7,9,9])\n",
    "print (result)\n",
    "print(result1)"
   ]
  },
  {
   "cell_type": "code",
   "execution_count": 27,
   "id": "43b6b209",
   "metadata": {},
   "outputs": [
    {
     "name": "stdout",
     "output_type": "stream",
     "text": [
      "['*', '*', '*', '*', '*', '*']\n",
      "['*', '*', '*', '*', '*', '*']\n",
      "['*', '*', '*', '*', '*', '*']\n",
      "['*', '*', '*', '*', '*', '*']\n",
      "['*', '*', '*', '*', '*', '*']\n",
      "['*', '*', '*', '*', '*', '*']\n",
      "['*', '*', '*', '*', '*', '*']\n",
      "['*', '*', '*', '*', '*', '*']\n",
      "['*', '*', '*', '*', '*', '*']\n",
      "['*', '*', '*', '*', '*', '*']\n",
      "['*', '*', '*', '*', '*', '*']\n",
      "['*', '*', '*', '*', '*', '*']\n"
     ]
    }
   ],
   "source": [
    "\n",
    "three_dimensional_array = []\n",
    "\n",
    "for i in range(3):\n",
    "    two_dimensional_array = []\n",
    "    for j in range(4):\n",
    "        row = []\n",
    "        for k in range(6):\n",
    "            row.append('*')\n",
    "        two_dimensional_array.append(row)\n",
    "    three_dimensional_array.append(two_dimensional_array)\n",
    "for i in range(3):\n",
    "    for j in range(4):\n",
    "         print(three_dimensional_array[i][j])\n"
   ]
  },
  {
   "cell_type": "code",
   "execution_count": 28,
   "id": "3d64252a",
   "metadata": {},
   "outputs": [
    {
     "name": "stdout",
     "output_type": "stream",
     "text": [
      "Squares of first 5 numbers between 1 to 30: [1, 4, 9, 16, 25]\n",
      "Squares of last 5 numbers between 1 to 30: [676, 729, 784, 841, 900]\n"
     ]
    }
   ],
   "source": [
    "''' 5. Write a Python program to generate and print a list of first and last 5 elements where the values are square of numbers \n",
    "       between 1 and 30 (both included).\n",
    "    Data:\n",
    "        range(1, 31) \n",
    "    Expected Output:\n",
    "        Squares of first 5 numbers between 1 to 30: [1, 4, 9, 16, 25]\n",
    "        Squares of last 5 numbers between 1 to 30: [676, 729, 784, 841, 900] '''\n",
    "\n",
    "squares = [x**2 for x in range(1, 31)]\n",
    "first_5 = squares[:5]\n",
    "last_5 = squares[-5:]\n",
    "print(\"Squares of first 5 numbers between 1 to 30:\", first_5)\n",
    "print(\"Squares of last 5 numbers between 1 to 30:\", last_5)\n"
   ]
  },
  {
   "cell_type": "code",
   "execution_count": 29,
   "id": "06382487",
   "metadata": {},
   "outputs": [
    {
     "name": "stdout",
     "output_type": "stream",
     "text": [
      "-2\n"
     ]
    }
   ],
   "source": [
    "''' 6. Write a Python program to find the second smallest number in a list.\n",
    "        Data:\n",
    "            lt = [1, 2, -8, -2, 0, -2]\n",
    "        Expected output:\n",
    "            -2 '''\n",
    "lt = [1, 2, -8, -2, 0, -2]\n",
    "lt.sort()\n",
    "print(lt[1])"
   ]
  },
  {
   "cell_type": "code",
   "execution_count": 30,
   "id": "ae07efe8",
   "metadata": {},
   "outputs": [
    {
     "name": "stdout",
     "output_type": "stream",
     "text": [
      "4\n"
     ]
    }
   ],
   "source": [
    "''' 7. Write a Python program to find the second largest number in a list.\n",
    "        Data:\n",
    "            lt = [1, 2, 3, 5, 4]\n",
    "        Expected output:\n",
    "            4 '''\n",
    "lt = [1, 2, 3, 5, 4]\n",
    "lt.sort()\n",
    "print(lt[-2])"
   ]
  },
  {
   "cell_type": "code",
   "execution_count": 31,
   "id": "0351f7ef",
   "metadata": {},
   "outputs": [
    {
     "name": "stdout",
     "output_type": "stream",
     "text": [
      "True\n",
      "False\n"
     ]
    }
   ],
   "source": [
    "''' 9. Write a Python program to check whether a list contains a sublist or not. Return True if present, false if not.\n",
    "        Data:\n",
    "            a = [2,4,3,5,7]\n",
    "            sublist1 = [4,3]\n",
    "            sublist2 = [3,7]\n",
    "        Expected Output:\n",
    "            True\n",
    "            False '''\n",
    "def contains_sublist(main_list, sublist):\n",
    "    return any(main_list[i:i+len(sublist)] == sublist for i in range(len(main_list) - len(sublist) + 1))\n",
    "a = [2, 4, 3, 5, 7]\n",
    "sublist1 = [4, 3]\n",
    "sublist2 = [3, 7]\n",
    "\n",
    "result1 = contains_sublist(a, sublist1)\n",
    "result2 = contains_sublist(a, sublist2)\n",
    "\n",
    "print(result1)\n",
    "print(result2)\n"
   ]
  },
  {
   "cell_type": "code",
   "execution_count": 35,
   "id": "bfd50a30",
   "metadata": {},
   "outputs": [
    {
     "name": "stdout",
     "output_type": "stream",
     "text": [
      "[[], [1], [2], [1, 2], [3], [1, 3], [2, 3], [1, 2, 3]]\n",
      "[[], ['X'], ['Y'], ['X', 'Y'], ['Z'], ['X', 'Z'], ['Y', 'Z'], ['X', 'Y', 'Z']]\n"
     ]
    }
   ],
   "source": [
    "''' 10. Write a Python program to generate all sublists of a list.\n",
    "        Data:\n",
    "            l1 = [10, 20, 30, 40]\n",
    "            l2 = ['X', 'Y', 'Z']\n",
    "        Expected Output:\n",
    "            [[], [1], [2], [1, 2], [3], [1, 3], [2, 3], [1, 2, 3]]\n",
    "            [[], ['X'], ['Y'], ['X', 'Y'], ['Z'], ['X', 'Z'], ['Y', 'Z'], ['X', 'Y', 'Z']] '''\n",
    "\n",
    "l1 = [1, 2, 3]\n",
    "l2 = ['X', 'Y', 'Z']\n",
    "sublists1 = [[]]\n",
    "for item in l1:\n",
    "    current_sublists = [prev + [item] for prev in sublists1]\n",
    "    sublists1.extend(current_sublists)\n",
    "print(sublists1)\n",
    "sublists2 = [[]]\n",
    "for item in l2:\n",
    "    current_sublists = [prev + [item] for prev in sublists2]\n",
    "    sublists2.extend(current_sublists)\n",
    "print(sublists2)\n"
   ]
  },
  {
   "cell_type": "code",
   "execution_count": null,
   "id": "a7ea33d5",
   "metadata": {},
   "outputs": [],
   "source": []
  }
 ],
 "metadata": {
  "kernelspec": {
   "display_name": "Python 3 (ipykernel)",
   "language": "python",
   "name": "python3"
  },
  "language_info": {
   "codemirror_mode": {
    "name": "ipython",
    "version": 3
   },
   "file_extension": ".py",
   "mimetype": "text/x-python",
   "name": "python",
   "nbconvert_exporter": "python",
   "pygments_lexer": "ipython3",
   "version": "3.11.5"
  }
 },
 "nbformat": 4,
 "nbformat_minor": 5
}
