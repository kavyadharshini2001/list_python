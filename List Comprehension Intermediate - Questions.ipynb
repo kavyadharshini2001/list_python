{
 "cells": [
  {
   "cell_type": "markdown",
   "metadata": {},
   "source": [
    "# List Comprehension Intermediate Questions"
   ]
  },
  {
   "cell_type": "code",
   "execution_count": 1,
   "metadata": {},
   "outputs": [
    {
     "name": "stdout",
     "output_type": "stream",
     "text": [
      "[2, 8, 18, 32]\n"
     ]
    }
   ],
   "source": [
    "'''1. Write a Python program to print the double of each items in the given lists.\n",
    "    Data:\n",
    "        comp=[1, 4, 9, 16]\n",
    "    Expected Output:\n",
    "        [2, 8, 18, 32]\n",
    "        \n",
    "        '''\n",
    "comp=[1, 4, 9, 16]\n",
    "res = [x*2 for x in comp]\n",
    "print(res)"
   ]
  },
  {
   "cell_type": "code",
   "execution_count": 2,
   "metadata": {},
   "outputs": [
    {
     "name": "stdout",
     "output_type": "stream",
     "text": [
      "[1, 5, 14, 30]\n"
     ]
    }
   ],
   "source": [
    "'''2. Write a python program to find cumulative sum of a list using list comprehension.\n",
    "    Data:\n",
    "        x = [1, 4, 9, 16]\n",
    "    Expected Output:\n",
    "        [1, 5, 14, 30]\n",
    "        \n",
    "        \n",
    "        '''\n",
    "# Given data\n",
    "x = [1, 4, 9, 16]\n",
    "\n",
    "cumulative_sum = [sum(x[:i+1]) for i in range(len(x))]\n",
    "\n",
    "print(cumulative_sum)\n"
   ]
  },
  {
   "cell_type": "code",
   "execution_count": 3,
   "metadata": {},
   "outputs": [
    {
     "name": "stdout",
     "output_type": "stream",
     "text": [
      "[1, 9, 25, 49, 81]\n"
     ]
    }
   ],
   "source": [
    "'''3. Write a Python program to print a list which contains square of all odd numbers from 1 to 10. \n",
    "    Expected Output:\n",
    "        [1, 9, 25, 49, 81]        \n",
    "        \n",
    "        '''\n",
    "sqr_odd = [x*x for x in range(11) if x%2 != 0]\n",
    "print(sqr_odd)"
   ]
  },
  {
   "cell_type": "code",
   "execution_count": 4,
   "metadata": {},
   "outputs": [
    {
     "name": "stdout",
     "output_type": "stream",
     "text": [
      "[2, 4, 8, 16, 32, 64, 128, 256]\n"
     ]
    }
   ],
   "source": [
    "'''4. Write a Python program to print a list which contains the power of 2 from 1 to 8.\n",
    "    Expected Output:\n",
    "        [2, 4, 8, 16, 32, 64, 128, 256]         \n",
    "        \n",
    "        \n",
    "        '''\n",
    "power = [2**i for i in range(1,9)]\n",
    "print(power)"
   ]
  },
  {
   "cell_type": "code",
   "execution_count": 5,
   "metadata": {},
   "outputs": [
    {
     "name": "stdout",
     "output_type": "stream",
     "text": [
      "[2, 3, 5, 7, 11, 13, 17, 19, 23, 29, 31, 37, 41, 43, 47]\n"
     ]
    }
   ],
   "source": [
    "'''5. Write a Python program to print a list contains prime and non-prime numbers from 1 to 50. \n",
    "    Expected Output:\n",
    "        [2, 3, 5, 7, 11, 13, 17, 19, 23, 29, 31, 37, 41, 43, 47]\n",
    "    '''    \n",
    "        \n",
    "prime_numbers = [num for num in range(2, 51) if all(num % i != 0 for i in range(2, int(num**0.5) + 1))]\n",
    "print(prime_numbers)\n",
    "        "
   ]
  },
  {
   "cell_type": "code",
   "execution_count": 11,
   "metadata": {},
   "outputs": [
    {
     "name": "stdout",
     "output_type": "stream",
     "text": [
      "[5, 1, 5]\n",
      "[5, 2, 10]\n",
      "[5, 3, 15]\n",
      "[5, 4, 20]\n",
      "[5, 5, 25]\n",
      "[5, 6, 30]\n",
      "[5, 7, 35]\n",
      "[5, 8, 40]\n",
      "[5, 9, 45]\n",
      "[5, 10, 50]\n"
     ]
    }
   ],
   "source": [
    "'''6. Write a Python program to print multiplication table of 5 upto 10 using list comprehension.\n",
    "    Expected Output:\n",
    "        Multiplication Table\n",
    "        [5, 1, 5]\n",
    "        [5, 2, 10]\n",
    "        [5, 3, 15]\n",
    "        [5, 4, 20]\n",
    "        [5, 5, 25]\n",
    "        [5, 6, 30]\n",
    "        [5, 7, 35]\n",
    "        [5, 8, 40]\n",
    "        [5, 9, 45]\n",
    "        [5, 10, 50]\n",
    "        '''\n",
    "table = [[5,i,i*5] for i in range(1,11)]\n",
    "for row in table:\n",
    "    print(row)"
   ]
  },
  {
   "cell_type": "code",
   "execution_count": 37,
   "metadata": {},
   "outputs": [
    {
     "name": "stdout",
     "output_type": "stream",
     "text": [
      "[[0, 1, 2, 3, 4], [0, 1, 2, 3, 4], [0, 1, 2, 3, 4], [0, 1, 2, 3, 4], [0, 1, 2, 3, 4]]\n"
     ]
    }
   ],
   "source": [
    "'''7. Write a Python program to create a matrix as displayed in expected output.\n",
    "    Expected Output:\n",
    "        matrixs =[[0, 1, 2, 3, 4],\n",
    "                 [0, 1, 2, 3, 4],\n",
    "                 [0, 1, 2, 3, 4],\n",
    "                 [0, 1, 2, 3, 4],\n",
    "                 [0, 1, 2, 3, 4]]    \n",
    "        '''\n",
    "        \n",
    "matrix = [[j for j in range(5)] for i in range(5)]\n",
    "                                    \n",
    "mat = [row  for row in matrix]\n",
    "mat2 =[]\n",
    "for i in mat:\n",
    "    mat2.append(i)\n",
    "print(mat2)\n"
   ]
  },
  {
   "cell_type": "code",
   "execution_count": 39,
   "metadata": {},
   "outputs": [
    {
     "name": "stdout",
     "output_type": "stream",
     "text": [
      "[1, 7, 3, 4, 9, 6, 7, 10, 9]\n"
     ]
    }
   ],
   "source": [
    "'''8. Write a Python program to flatten a given 2-D list.\n",
    "    Data:\n",
    "        matrixs = [[1, 7, 3], [4, 9, 6], [7, 10, 9]]   \n",
    "    Expected Output:\n",
    "        [1, 7, 3, 4, 9, 6, 7, 10, 9]\n",
    "        '''\n",
    "        \n",
    "matrixs = [[1, 7, 3], [4, 9, 6], [7, 10, 9]]          \n",
    "matrix = [j for i in matrixs for j in i] \n",
    "print(matrix)"
   ]
  },
  {
   "cell_type": "code",
   "execution_count": 41,
   "metadata": {},
   "outputs": [
    {
     "name": "stdout",
     "output_type": "stream",
     "text": [
      "['Mars', 'Venus', 'Earth', 'Pluto']\n"
     ]
    }
   ],
   "source": [
    "'''9. Write a Python program to print the items whose length are < 6 from the given nested list using list comprehension.\n",
    "    Data:\n",
    "        lists= [['Mars', 'Jupiter', 'Saturn'],['Mercury', 'Venus', 'Earth'] ,['Uranus', 'Neptune', 'Pluto']]   \n",
    "    Expected Output:\n",
    "        ['Mars', 'Venus', 'Earth', 'Pluto']\n",
    "        \n",
    "        '''\n",
    "        \n",
    "lists= [['Mars', 'Jupiter', 'Saturn'],['Mercury', 'Venus', 'Earth'] ,['Uranus', 'Neptune', 'Pluto']]   \n",
    "li = [j for i in lists for j in i if len(j)<6]\n",
    "print(li)"
   ]
  },
  {
   "cell_type": "code",
   "execution_count": 42,
   "metadata": {},
   "outputs": [
    {
     "name": "stdout",
     "output_type": "stream",
     "text": [
      "Execution time = 0.51275634765625\n"
     ]
    }
   ],
   "source": [
    "'''10. Write a Python program to form a list of all even numbers upto 10**7.\n",
    "    Expected Output:\n",
    "        Execution time =  2.050727367401123 '''\n",
    "\n",
    "import time\n",
    "\n",
    "start_time = time.time()\n",
    "\n",
    "even_numbers = [num for num in range(2, 10**7 + 1, 2)]\n",
    "\n",
    "end_time = time.time()\n",
    "\n",
    "print(f\"Execution time = {end_time - start_time}\")\n"
   ]
  },
  {
   "cell_type": "code",
   "execution_count": 44,
   "metadata": {},
   "outputs": [
    {
     "name": "stdout",
     "output_type": "stream",
     "text": [
      "Comprehensions = 85176\n",
      "Generator = 200\n"
     ]
    }
   ],
   "source": [
    "'''11, Write a Python program to form difference between Generator Expressions and List Comprehensions.\n",
    "    Data:\n",
    "        range(10000)\n",
    "    Expected Output:\n",
    "        Comprehensions = 87616\n",
    "        Generator =  112'''\n",
    "        \n",
    "import sys\n",
    "data = range(10000)\n",
    "comprehensions = [x for x in data]\n",
    "generator = (x for x in data)\n",
    "print(f\"Comprehensions = {sys.getsizeof(comprehensions)}\")\n",
    "print(f\"Generator = {sys.getsizeof(generator)}\")\n",
    "      \n",
    "        "
   ]
  },
  {
   "cell_type": "code",
   "execution_count": 47,
   "metadata": {},
   "outputs": [
    {
     "name": "stdout",
     "output_type": "stream",
     "text": [
      "['sun1', 'sun2', 'sun3', 'sun4', 'sun5', 'sun6', 'sun4', 'sun3', 'sun5', 'sun67', 'sun8', 'sun9']\n"
     ]
    }
   ],
   "source": [
    "'''12. Write a Python program to insert a given string at the beginning of each item in a list.\n",
    "    Data:\n",
    "        lists : [1,2,3,4,5,6,4,3,5,67,8,9]\n",
    "        string : \"sun\"\n",
    "    Expected Output:\n",
    "        ['sun1', 'sun2', 'sun3', 'sun4', 'sun5', 'sun6', 'sun4', 'sun3', 'sun5', 'sun67', 'sun8', 'sun9']\n",
    "        \n",
    "        '''\n",
    "lists = [1,2,3,4,5,6,4,3,5,67,8,9]        \n",
    "li = [\"sun\"+str(i) for i in lists]\n",
    "print(li)"
   ]
  },
  {
   "cell_type": "code",
   "execution_count": 53,
   "metadata": {},
   "outputs": [
    {
     "name": "stdout",
     "output_type": "stream",
     "text": [
      "[[14, 33, 55, 17], [22, 44, 61, 81]]\n"
     ]
    }
   ],
   "source": [
    "'''13. Write a Python program to print transpose of a Matrix using list comprehension.\n",
    "    Data:\n",
    "        x = [[14, 22], [33,44], [55,61], [17,81]]\n",
    "    Expected Output:\n",
    "        [[14, 33, 55, 17], [22, 44, 61, 81]]\n",
    "        \n",
    "        '''\n",
    "\n",
    "\n",
    "x = [[14, 22], [33, 44], [55, 61], [17, 81]]\n",
    "transpose_x = [[row[i] for row in x] for i in range(len(x[0]))]\n",
    "\n",
    "print(transpose_x)\n"
   ]
  },
  {
   "cell_type": "code",
   "execution_count": 54,
   "metadata": {},
   "outputs": [
    {
     "name": "stdout",
     "output_type": "stream",
     "text": [
      "[16, 1, 49, 1, 16, 9, 16, 16, 36, 49, 81]\n"
     ]
    }
   ],
   "source": [
    "'''14. Write a Python program to print following output from given list a = [-4, -1, 7, 1, 4, 3], b = [4, 4, 6, 7, 9].\n",
    "    Expected Output:\n",
    "        [28, 28, 42, 4, 4, 6, 16, 16, 24, 12, 12, 18] '''\n",
    "        \n",
    "#doubts\n",
    "        "
   ]
  },
  {
   "cell_type": "code",
   "execution_count": 60,
   "metadata": {},
   "outputs": [
    {
     "name": "stdout",
     "output_type": "stream",
     "text": [
      "(66, 10)\n"
     ]
    }
   ],
   "source": [
    "'''15. Write a Python program to find a tuple in the list of tuple, whose second element is the smallest using list comprehension. \n",
    "    Data:\n",
    "        x = [(10, 14), (12, 22), (66, 10)]\n",
    "    Expected Output:\n",
    "        (66, 10)\n",
    "        \n",
    "        \n",
    "        '''\n",
    "x = [(10, 14), (12, 22), (66, 10)]\n",
    "li = min(x, key=lambda tup: tup[1])\n",
    "print(li)\n"
   ]
  },
  {
   "cell_type": "code",
   "execution_count": 62,
   "metadata": {},
   "outputs": [
    {
     "name": "stdout",
     "output_type": "stream",
     "text": [
      "[77, 25, 27]\n"
     ]
    }
   ],
   "source": [
    "'''16. Write a Python program to print all the numbers in a list except those are even.\n",
    "    Data:\n",
    "        A = [77,88, 120, 25, 44, 20, 27]\n",
    "    Expected Output:\n",
    "        [77, 25, 27]\n",
    "        \n",
    "        '''\n",
    "A = [77,88, 120, 25, 44, 20, 27]\n",
    "li = [x for x in A if x%2!=0]\n",
    "print(li)"
   ]
  },
  {
   "cell_type": "code",
   "execution_count": 65,
   "metadata": {},
   "outputs": [
    {
     "name": "stdout",
     "output_type": "stream",
     "text": [
      "[1, 2, 6, 24, 120]\n"
     ]
    }
   ],
   "source": [
    "'''17. Write a python program to find cumulative product of a list using list comprehension.\n",
    "    Data:\n",
    "        nums = [1, 2, 3, 4, 5]\n",
    "    Expected Output:\n",
    "        [1, 2, 6, 24, 120]\n",
    "        \n",
    "        \n",
    "        \n",
    "        '''\n",
    "\n",
    "# Given data\n",
    "nums = [1, 2, 3, 4, 5]\n",
    "\n",
    "cumulative_product = [nums[0]]\n",
    "[cumulative_product.append(cumulative_product[i-1] * nums[i]) for i in range(1, len(nums))]\n",
    "print(cumulative_product)\n"
   ]
  },
  {
   "cell_type": "code",
   "execution_count": 66,
   "metadata": {},
   "outputs": [
    {
     "name": "stdout",
     "output_type": "stream",
     "text": [
      "[2, 8, 12, 56, 8, 4]\n"
     ]
    }
   ],
   "source": [
    "'''18. Write a Python program to print all the even numbers in a list using list comprehension. \n",
    "    Data:\n",
    "        x = [2, 433, 65, 8, 12, 9, 7, 56, 8, 4]\n",
    "    Expected Output:\n",
    "        Even numbers in the list:  [2, 8, 12, 56, 8, 4]\n",
    "            '''\n",
    "y = [2, 433, 65, 8, 12, 9, 7, 56, 8, 4]\n",
    "li =[x for x in y if x%2 ==0 ]\n",
    "print(li)\n",
    "            "
   ]
  },
  {
   "cell_type": "code",
   "execution_count": 67,
   "metadata": {},
   "outputs": [
    {
     "name": "stdout",
     "output_type": "stream",
     "text": [
      "[0, 1, 2, 3, 4]\n",
      "[0, 1, 2, 3, 4]\n",
      "[0, 1, 2, 3, 4]\n",
      "[0, 1, 2, 3, 4]\n",
      "[0, 1, 2, 3, 4]\n",
      "[0, 1, 2, 3, 4]\n"
     ]
    }
   ],
   "source": [
    "'''19. Write a Python program to create a matrix which looks like below.\n",
    "    Data:\n",
    "        range(5 and 6)\n",
    "    Expected Output:\n",
    "    Matrixs =  [[0, 1, 2, 3, 4],\n",
    "               [0, 1, 2, 3, 4],\n",
    "               [0, 1, 2, 3, 4],\n",
    "               [0, 1, 2, 3, 4],\n",
    "               [0, 1, 2, 3, 4],\n",
    "               [0, 1, 2, 3, 4]]\n",
    "    '''\n",
    "    \n",
    "    \n",
    "\n",
    "rows = 6\n",
    "columns = 5\n",
    "\n",
    "matrixs = [[j for j in range(columns)] for i in range(rows)]\n",
    "for row in matrixs:\n",
    "    print(row)\n",
    "        "
   ]
  },
  {
   "cell_type": "code",
   "execution_count": 68,
   "metadata": {},
   "outputs": [
    {
     "name": "stdout",
     "output_type": "stream",
     "text": [
      "[0, 0, 0, 1, 1, 1, 2, 2, 2, 3, 3, 3]\n"
     ]
    }
   ],
   "source": [
    "'''20. Write a Python program to flatten a given list of lists.\n",
    "    Data:\n",
    "        matrixs = [[0, 0, 0],              \n",
    "                   [1, 1, 1],    \n",
    "                   [2, 2, 2],\n",
    "                   [3, 3, 3]]  \n",
    "    Expected Output:\n",
    "        [0, 0, 0, 1, 1, 1, 2, 2, 2, 3, 3, 3]'''\n",
    "        \n",
    "        \n",
    "                   \n",
    "\n",
    "matrixs = [[0, 0, 0], [1, 1, 1], [2, 2, 2], [3, 3, 3]]\n",
    "\n",
    "flattened_list = [element for row in matrixs for element in row]\n",
    "\n",
    "print(flattened_list)\n"
   ]
  },
  {
   "cell_type": "code",
   "execution_count": null,
   "metadata": {},
   "outputs": [],
   "source": []
  }
 ],
 "metadata": {
  "kernelspec": {
   "display_name": "Python 3 (ipykernel)",
   "language": "python",
   "name": "python3"
  },
  "language_info": {
   "codemirror_mode": {
    "name": "ipython",
    "version": 3
   },
   "file_extension": ".py",
   "mimetype": "text/x-python",
   "name": "python",
   "nbconvert_exporter": "python",
   "pygments_lexer": "ipython3",
   "version": "3.11.5"
  }
 },
 "nbformat": 4,
 "nbformat_minor": 4
}
