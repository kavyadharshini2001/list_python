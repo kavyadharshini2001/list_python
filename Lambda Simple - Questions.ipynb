{
 "cells": [
  {
   "cell_type": "markdown",
   "metadata": {},
   "source": [
    "# Lambda Simple Questions"
   ]
  },
  {
   "cell_type": "code",
   "execution_count": 3,
   "metadata": {},
   "outputs": [
    {
     "name": "stdout",
     "output_type": "stream",
     "text": [
      "13\n"
     ]
    }
   ],
   "source": [
    "'''1. Write a python lambda function to summarize arguments a, b, and c and return the result.\n",
    "Data:\n",
    "    5, 6, 2\n",
    "Expected outout:\n",
    "    13'''\n",
    "result = lambda x,y,z : x+y+z\n",
    "print(result(5,6,2))\n"
   ]
  },
  {
   "cell_type": "code",
   "execution_count": 4,
   "metadata": {},
   "outputs": [
    {
     "name": "stdout",
     "output_type": "stream",
     "text": [
      "30\n"
     ]
    }
   ],
   "source": [
    "'''2. write a python lambda function to multiply argument a with argument b and return the result.\n",
    "Data:\n",
    "    5, 6\n",
    "Expected output:\n",
    "    30'''\n",
    "multiply = lambda x,y : x*y\n",
    "print(multiply(5,6))"
   ]
  },
  {
   "cell_type": "code",
   "execution_count": 5,
   "metadata": {},
   "outputs": [
    {
     "name": "stdout",
     "output_type": "stream",
     "text": [
      "15\n"
     ]
    }
   ],
   "source": [
    "'''3. Write a python lambda function to add 10 to argument a, and return the result.\n",
    "Data:\n",
    "    a = 5\n",
    "Expected output:\n",
    "    15'''\n",
    "add = lambda x : x+10\n",
    "print(add(5))"
   ]
  },
  {
   "cell_type": "code",
   "execution_count": 10,
   "metadata": {},
   "outputs": [
    {
     "name": "stdout",
     "output_type": "stream",
     "text": [
      "[4, 6, 8, 12]\n"
     ]
    }
   ],
   "source": [
    "'''4. Write a python lambda function to filter out only the even items from a list.\n",
    "Data:\n",
    "    my_list = [1, 5, 4, 6, 8, 11, 3, 12]\n",
    "Expected output:\n",
    "    [4, 6, 8, 12]'''\n",
    "my_list = [1, 5, 4, 6, 8, 11, 3, 12]\n",
    "even = list(filter(lambda x : x%2 == 0 , my_list))  \n",
    "print(even)"
   ]
  },
  {
   "cell_type": "code",
   "execution_count": 11,
   "metadata": {},
   "outputs": [
    {
     "name": "stdout",
     "output_type": "stream",
     "text": [
      "[2, 10, 8, 12, 16, 22, 6, 24]\n"
     ]
    }
   ],
   "source": [
    "'''5.  Write a python lambda function to double each item in a list using map().\n",
    "Data:\n",
    "    my_list = [1, 5, 4, 6, 8, 11, 3, 12]\n",
    "Expected output:\n",
    "    [2, 10, 8, 12, 16, 22, 6, 24]'''\n",
    "my_list = [1, 5, 4, 6, 8, 11, 3, 12]\n",
    "double = list(map(lambda x : x*2 , my_list))\n",
    "print(double)"
   ]
  },
  {
   "cell_type": "code",
   "execution_count": 14,
   "metadata": {},
   "outputs": [
    {
     "name": "stdout",
     "output_type": "stream",
     "text": [
      "[5, 7, 97, 77, 23, 73, 61]\n"
     ]
    }
   ],
   "source": [
    "'''6. Write a python code to illustrate filter() with lambda() to return only the odd numbers from a given list.\n",
    "Data:\n",
    "    li = [5, 7, 22, 97, 54, 62, 77, 23, 73, 61]\n",
    "Expected output:\n",
    "    [5, 7, 97, 77, 23, 73, 61]'''\n",
    "li = [5, 7, 22, 97, 54, 62, 77, 23, 73, 61]\n",
    "odd = list(filter(lambda x: x%2!=0, li))\n",
    "print(odd)"
   ]
  },
  {
   "cell_type": "code",
   "execution_count": 15,
   "metadata": {},
   "outputs": [
    {
     "name": "stdout",
     "output_type": "stream",
     "text": [
      "[90, 59, 21, 60]\n"
     ]
    }
   ],
   "source": [
    "'''7. Write a python code to filter people above 18 years using lambda function.\n",
    "Data:\n",
    "    ages = [13, 90, 17, 59, 21, 60, 5]\n",
    "Expected output:\n",
    "    [90, 59, 21, 60]'''\n",
    "ages = [13, 90, 17, 59, 21, 60, 5]\n",
    "age = list(filter(lambda x : x>18,ages))\n",
    "print(age)"
   ]
  },
  {
   "cell_type": "code",
   "execution_count": 23,
   "metadata": {},
   "outputs": [
    {
     "name": "stdout",
     "output_type": "stream",
     "text": [
      "value : 5\n",
      "double : 10\n",
      "triple : 15\n"
     ]
    }
   ],
   "source": [
    "'''8. Write a python function which has a lambda function to return double and triple of a given value.\n",
    "Data:\n",
    "    value = 5\n",
    "Expected output:\n",
    "    Value : 5\n",
    "    Double : 10\n",
    "    Triple : 15'''\n",
    "value = 5\n",
    "num = lambda x : (x*2, x*3)\n",
    "result = num(value)\n",
    "double,triple = result\n",
    "print(f\"value : {value}\")\n",
    "print(f\"double : {double}\")\n",
    "print(f\"triple : {triple}\")"
   ]
  },
  {
   "cell_type": "code",
   "execution_count": 25,
   "metadata": {},
   "outputs": [
    {
     "name": "stdout",
     "output_type": "stream",
     "text": [
      "[10, 14, 44, 194, 108, 124, 154, 46, 146, 122]\n"
     ]
    }
   ],
   "source": [
    "'''9. Write a python code to illustrate map() with lambda() to get double of each items in a given list.\n",
    "Data:\n",
    "    li = [5, 7, 22, 97, 54, 62, 77, 23, 73, 61]\n",
    "Expected output:\n",
    "    [10, 14, 44, 194, 108, 124, 154, 46, 146, 122]'''\n",
    "li = [5, 7, 22, 97, 54, 62, 77, 23, 73, 61]\n",
    "double = list(map(lambda x : x*2 , li))\n",
    "print(double)"
   ]
  },
  {
   "cell_type": "code",
   "execution_count": 28,
   "metadata": {},
   "outputs": [
    {
     "name": "stdout",
     "output_type": "stream",
     "text": [
      "['DOG', 'CAT', 'PARROT', 'RABBIT']\n"
     ]
    }
   ],
   "source": [
    "'''10. Write a python program to convert lower cases in a given list of strings into upper cases using lambda() and map() function.\n",
    "Data:\n",
    "    animals = ['dog', 'cat', 'parrot', 'rabbit']\n",
    "Expected output:\n",
    "    ['DOG', 'CAT', 'PARROT', 'RABBIT']'''\n",
    "animals = ['dog', 'cat', 'parrot', 'rabbit']\n",
    "upper_case = list(map(lambda x : x.upper(),animals))    \n",
    "print(upper_case)"
   ]
  },
  {
   "cell_type": "code",
   "execution_count": null,
   "metadata": {},
   "outputs": [],
   "source": []
  }
 ],
 "metadata": {
  "kernelspec": {
   "display_name": "Python 3 (ipykernel)",
   "language": "python",
   "name": "python3"
  },
  "language_info": {
   "codemirror_mode": {
    "name": "ipython",
    "version": 3
   },
   "file_extension": ".py",
   "mimetype": "text/x-python",
   "name": "python",
   "nbconvert_exporter": "python",
   "pygments_lexer": "ipython3",
   "version": "3.11.5"
  }
 },
 "nbformat": 4,
 "nbformat_minor": 4
}
