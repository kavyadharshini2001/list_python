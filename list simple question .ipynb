{
 "cells": [
  {
   "cell_type": "code",
   "execution_count": 1,
   "id": "0452388a",
   "metadata": {},
   "outputs": [
    {
     "name": "stdout",
     "output_type": "stream",
     "text": [
      "the list is empty\n"
     ]
    }
   ],
   "source": [
    "# 1. Write a Python program to check whether the list is empty or not.\n",
    "list = []\n",
    "if list == []:\n",
    "    print(\"the list is empty\")\n",
    "else:\n",
    "    print(\"there is items in list\")"
   ]
  },
  {
   "cell_type": "code",
   "execution_count": 9,
   "id": "9449c836",
   "metadata": {},
   "outputs": [
    {
     "name": "stdout",
     "output_type": "stream",
     "text": [
      "0 5\n",
      "1 15\n",
      "2 35\n",
      "3 8\n",
      "4 98\n"
     ]
    }
   ],
   "source": [
    "''' 2. Write a Python program to access the index of all the elements in a list.\n",
    "        Data:\n",
    "            x = [5, 15, 35, 8, 98]\n",
    "        Expected Output:\n",
    "            0 5\n",
    "            1 15\n",
    "            2 35\n",
    "            3 8\n",
    "            4 98 '''\n",
    "x = [5, 15, 35, 8, 98]\n",
    "for i in range(len(x)):\n",
    "    print(i,x[i])\n",
    "   "
   ]
  },
  {
   "cell_type": "code",
   "execution_count": 10,
   "id": "e4fd2dcc",
   "metadata": {},
   "outputs": [
    {
     "name": "stdout",
     "output_type": "stream",
     "text": [
      "abcd\n"
     ]
    }
   ],
   "source": [
    "''' 3. Write a Python program to convert a list of characters into a string.\n",
    "        Data:\n",
    "            x = ['a', 'b', 'c', 'd']\n",
    "        Expected Output:\n",
    "            abcd '''\n",
    "x = ['a', 'b', 'c', 'd']\n",
    "char = ''\n",
    "for i in x:\n",
    "    char += i\n",
    "print(char)    \n",
    "    \n",
    "    "
   ]
  },
  {
   "cell_type": "code",
   "execution_count": 17,
   "id": "dc5ce9b9",
   "metadata": {},
   "outputs": [
    {
     "name": "stdout",
     "output_type": "stream",
     "text": [
      "enter the number, you want to find the index:-6\n",
      "index of -6 is 3\n"
     ]
    }
   ],
   "source": [
    "''' 4. Write a Python program to find the index of specified item in a list.\n",
    "        Data:\n",
    "            x = [10, 30, 4, -6]\n",
    "        Expected Output:\n",
    "            Index of 4 is 2 '''\n",
    "x = [10, 30, 4, -6]\n",
    "num = int(input(\"enter the number, you want to find the index:\"))\n",
    "for i in range(len(x)):\n",
    "    if x[i] == num:\n",
    "        print(\"index of\",num,\"is\",i)"
   ]
  },
  {
   "cell_type": "code",
   "execution_count": 18,
   "id": "53685ba0",
   "metadata": {},
   "outputs": [
    {
     "name": "stdout",
     "output_type": "stream",
     "text": [
      "-5\n"
     ]
    }
   ],
   "source": [
    "''' 5. Write a Python program to print the sum of all the items in a list.\n",
    "    Data:\n",
    "        lt = [1, 2, -8]\n",
    "    Expected Output:\n",
    "        sum is -5 '''\n",
    "lt = [1, 2, -8] \n",
    "sum = 0\n",
    "for i in lt:\n",
    "    sum += i\n",
    "print(sum)    \n",
    "    "
   ]
  },
  {
   "cell_type": "code",
   "execution_count": 19,
   "id": "05889e5d",
   "metadata": {},
   "outputs": [
    {
     "name": "stdout",
     "output_type": "stream",
     "text": [
      "2\n"
     ]
    }
   ],
   "source": [
    "''' 7. Write a Python program to get the largest number from a list.\n",
    "        Data:\n",
    "            [1, 2, -8, 0]\n",
    "        Expected Output:\n",
    "            2 '''\n",
    "k= [1, 2, -8, 0]\n",
    "k.sort()\n",
    "print(k[-1])"
   ]
  },
  {
   "cell_type": "code",
   "execution_count": 20,
   "id": "00b7a33f",
   "metadata": {},
   "outputs": [
    {
     "name": "stdout",
     "output_type": "stream",
     "text": [
      "-8\n"
     ]
    }
   ],
   "source": [
    "''' 8. Write a Python program to get the smallest number from a list. \n",
    "        Data:\n",
    "            [1, 2, -8, 0]\n",
    "        Expected Output:\n",
    "            -8 '''\n",
    "k= [1, 2, -8, 0]\n",
    "k.sort()\n",
    "print(k[0])"
   ]
  },
  {
   "cell_type": "code",
   "execution_count": 31,
   "id": "f5ac5912",
   "metadata": {},
   "outputs": [
    {
     "name": "stdout",
     "output_type": "stream",
     "text": [
      "x- [10, 22, 44, 23, 4]\n",
      "y- [10, 22, 44, 23, 4]\n"
     ]
    }
   ],
   "source": [
    "''' 10. Write a Python program to clone or copy a list.\n",
    "        Data:\n",
    "            x = [10, 22, 44, 23, 4]\n",
    "        Expected Output:\n",
    "            X - [10, 22, 44, 23, 4]\n",
    "            Y - [10, 22, 44, 23, 4] '''\n",
    "\n",
    "x = [10, 22, 44, 23, 4]\n",
    "y=x.copy() \n",
    "\n",
    "print(\"x-\",x)\n",
    "print(\"y-\",y)"
   ]
  },
  {
   "cell_type": "code",
   "execution_count": 36,
   "id": "fe7858da",
   "metadata": {},
   "outputs": [
    {
     "name": "stdout",
     "output_type": "stream",
     "text": [
      "(1, 2, 3, 4, 5)\n",
      "[1, 2, 3, 4, 5]\n"
     ]
    }
   ],
   "source": [
    "''' 11. Write a Python program to convert a tuple into a List.\n",
    "        Data:\n",
    "            x = (1,2,3,4,5)\n",
    "        Expected Output:\n",
    "            (1, 2, 3, 4, 5)\n",
    "            [1, 2, 3, 4, 5] '''\n",
    "x = (1, 2, 3, 4, 5)\n",
    "y=[]\n",
    "\n",
    "\n",
    "for i in x:\n",
    "    y.append(i)\n",
    "print(x)    \n",
    "print(y)    \n",
    "    "
   ]
  },
  {
   "cell_type": "code",
   "execution_count": 37,
   "id": "baa0162d",
   "metadata": {},
   "outputs": [
    {
     "name": "stdout",
     "output_type": "stream",
     "text": [
      "[7, 25, 27]\n"
     ]
    }
   ],
   "source": [
    "''' 12. Write a Python program to print the numbers of a specified list after removing even numbers from it.\n",
    "        Data:\n",
    "            x = [7, 8, 120, 25, 44, 20, 27]\n",
    "        Expected Output:\n",
    "            [7, 25, 27] '''\n",
    "        \n",
    "x = [7, 8, 120, 25, 44, 20, 27]\n",
    "y = []\n",
    "for i in x:\n",
    "    if i%2 != 0:\n",
    "        y.append(i)\n",
    "        \n",
    "print(y)        "
   ]
  },
  {
   "cell_type": "code",
   "execution_count": 39,
   "id": "24ff5ceb",
   "metadata": {},
   "outputs": [
    {
     "name": "stdout",
     "output_type": "stream",
     "text": [
      "['White', 'Pink', 'Red', 'Green', 'Yellow', 'Black']\n"
     ]
    }
   ],
   "source": [
    "''' 13. Write a Python program to shuffle and print a specified list. \n",
    "        Data:\n",
    "            x = ['Red', 'Green', 'White', 'Black', 'Pink', 'Yellow']\n",
    "        Expected Output:\n",
    "            ['Pink', 'Black', 'Red', 'Yellow', 'White', 'Green'] '''\n",
    "import random\n",
    "x = ['Red', 'Green', 'White', 'Black', 'Pink', 'Yellow']\n",
    "random.shuffle(x)\n",
    "print(x)"
   ]
  },
  {
   "cell_type": "code",
   "execution_count": 40,
   "id": "268a0d9c",
   "metadata": {},
   "outputs": [
    {
     "name": "stdout",
     "output_type": "stream",
     "text": [
      "[1, 2, 3, 0, 'Red', 'Green', 'Black']\n"
     ]
    }
   ],
   "source": [
    "''' 14. Write a Python program to append the second list to the first list.\n",
    "        Data:\n",
    "            x = [1, 2, 3, 0]\n",
    "            y = ['Red', 'Green', 'Black']\n",
    "        Expected Output:\n",
    "            [1, 2, 3, 0, 'Red', 'Green', 'Black'] '''\n",
    "x = [1, 2, 3, 0]\n",
    "y = ['Red', 'Green', 'Black']\n",
    "x.extend(y)\n",
    "print(x)"
   ]
  },
  {
   "cell_type": "code",
   "execution_count": 49,
   "id": "1ca27a5f",
   "metadata": {},
   "outputs": [
    {
     "data": {
      "text/plain": [
       "'White'"
      ]
     },
     "execution_count": 49,
     "metadata": {},
     "output_type": "execute_result"
    }
   ],
   "source": [
    "''' 15. Write a Python program to select an item randomly from a list.\n",
    "        Data:\n",
    "            x = ['Red', 'Blue', 'Green', 'White', 'Black']\n",
    "        Expected Output:\n",
    "            White '''\n",
    "import random\n",
    "x = ['Red', 'Blue', 'Green', 'White', 'Black']\n",
    "random.choice(x)"
   ]
  },
  {
   "cell_type": "code",
   "execution_count": 50,
   "id": "bd20fdba",
   "metadata": {},
   "outputs": [
    {
     "name": "stdout",
     "output_type": "stream",
     "text": [
      "List of unique numbers: [10, 20, 30, 40, 50, 60]\n"
     ]
    }
   ],
   "source": [
    "''' 16. Write a Python program to get unique values from a list.\n",
    "        Data:\n",
    "            Original List :  [10, 20, 30, 40, 20, 50, 60, 40]\n",
    "        Expected Output:\n",
    "            List of unique numbers :  [40, 10, 50, 20, 60, 30] '''\n",
    "original_list = [10, 20, 30, 40, 20, 50, 60, 40]\n",
    "unique_list = []\n",
    "\n",
    "for number in original_list:\n",
    "    if number not in unique_list:\n",
    "        unique_list.append(number)\n",
    "\n",
    "print(\"List of unique numbers:\", unique_list) "
   ]
  },
  {
   "cell_type": "code",
   "execution_count": 53,
   "id": "9bb26463",
   "metadata": {},
   "outputs": [
    {
     "name": "stdout",
     "output_type": "stream",
     "text": [
      "140732998050640\n",
      "140732999311976\n"
     ]
    }
   ],
   "source": [
    "''' 17. Write a Python program to get variable unique identification number or string.\n",
    "        Data:\n",
    "            var1 = 'Python'\n",
    "            var2 = 123\n",
    "        Expected Output:\n",
    "            186756869b0\n",
    "            7ffea3a83660 '''\n",
    "        \n",
    "var1 = 'Python'\n",
    "var2 = 123\n",
    "var3 = id(var1)\n",
    "var4 = id(var2)\n",
    "print(var3)\n",
    "print(var4)"
   ]
  },
  {
   "cell_type": "code",
   "execution_count": 55,
   "id": "4d855665",
   "metadata": {},
   "outputs": [
    {
     "name": "stdout",
     "output_type": "stream",
     "text": [
      "112233"
     ]
    }
   ],
   "source": [
    "''' 19. Write a Python program to convert a list of multiple integers into a single integer.\n",
    "        Data:\n",
    "            x = [11, 22, 33]\n",
    "        Expected Output:\n",
    "            112233 '''\n",
    "\n",
    "x = [11,22,33]\n",
    "for i in x:\n",
    "    print(str(i),end=\"\")"
   ]
  },
  {
   "cell_type": "code",
   "execution_count": 59,
   "id": "9090c0a3",
   "metadata": {},
   "outputs": [
    {
     "name": "stdout",
     "output_type": "stream",
     "text": [
      "{'1': [], '2': [], '3': [], '4': [], '5': [], '6': [], '7': [], '8': [], '9': []}\n"
     ]
    }
   ],
   "source": [
    "''' 20. Write a Python program to create multiple lists.\n",
    "        Data:\n",
    "            x = {}\n",
    "        Expected Output:\n",
    "            {'1': [], '2': [], '3': [], '4': [], '5': [], '6': [], '7': [], '8': [], '9': []} '''\n",
    "x = {str(i): [] for i in range(1, 10)}\n",
    "\n",
    "print(x)\n"
   ]
  },
  {
   "cell_type": "code",
   "execution_count": null,
   "id": "bd1befd8",
   "metadata": {},
   "outputs": [],
   "source": []
  }
 ],
 "metadata": {
  "kernelspec": {
   "display_name": "Python 3 (ipykernel)",
   "language": "python",
   "name": "python3"
  },
  "language_info": {
   "codemirror_mode": {
    "name": "ipython",
    "version": 3
   },
   "file_extension": ".py",
   "mimetype": "text/x-python",
   "name": "python",
   "nbconvert_exporter": "python",
   "pygments_lexer": "ipython3",
   "version": "3.11.5"
  }
 },
 "nbformat": 4,
 "nbformat_minor": 5
}
